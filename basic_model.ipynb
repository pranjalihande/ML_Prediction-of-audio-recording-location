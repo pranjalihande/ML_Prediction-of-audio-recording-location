{
 "cells": [
  {
   "cell_type": "markdown",
   "id": "6e8b0d91",
   "metadata": {},
   "source": [
    "### 1. Author\n",
    "Student Name: Pranjali Hande\n",
    "\n",
    "Student ID: 220707639"
   ]
  },
  {
   "cell_type": "markdown",
   "id": "077a561c",
   "metadata": {},
   "source": [
    "### 2. Problem formulation\n",
    "\n",
    "<b>Problem Statement: The problem is to predict whether the audio segment has been recorded indoors or outdoors.</b>\n",
    "\n",
    "Using the MLEnd Sound dataset, perform the predictions of whether the sound segment has been recorded indoors or outdoors. \n",
    "\n",
    "The MLEnd dataset is collected from different locations in London. These locations are categorized into indoors or outdoors, but it’s interesting to know how the classifier will be able to differentiate them, as not all indoor locations have the same features (For E.g., some indoors are very quiet such as National Gallery vs some are very noisy such as Waterloo Station) and same for outdoors (Some locations are quite verses many of them are noisy)."
   ]
  },
  {
   "cell_type": "markdown",
   "id": "f401f752",
   "metadata": {},
   "source": [
    "### 3. Machine Learning pipeline\n",
    "\n",
    "Describe your ML pipeline. Clearly identify its input and output, any intermediate stages (for instance, transformation -> models), and intermediate data moving from one stage to the next. It's up to you to decide which stages to include in your pipeline.\n",
    "Stages of Machine Learning Pipeline:\n",
    "\n",
    "<b> Input:</b> Audio files from MLE sound dataset (.wav files: It captures the closest mathematical representation of the original audio with no noticeable audio quality loss).\n",
    "\n",
    "<b> Output:</b> Lable either Central, Eastern, or Western areas of London.\n",
    "\n",
    "<b> Stage 1. Preprocess:</b> Collect the MLEnd Audio dataset samples (almost 2491). These Audio files are processed and transformed using python package Librosa. \n",
    "\n",
    "<b> Stage 2. Feature Extraction:</b> Several advanced features can be extracted and visualized using this library to these analyze signals. List multiple audio features as a predictors for the classifier and label are either Central, Eastern, or Western areas of London.\n",
    "\n",
    "<b> Stage 3. Modelling:</b> \n",
    "\n",
    "   A. Normalize the input data (extracted features as predictors).\n",
    "    \n",
    "   B. Split the data into Train and test samples.\n",
    "    \n",
    "   C. Train classifer with train data.\n",
    "    \n",
    "   D. Predict labels for audio test data as indoors or outdoors from trained classifer.\n",
    "\n",
    "<b> Stage 4. Validate Accuracy:</b> Compute Accuracy for the predictions. Perform Validation on Test dataset."
   ]
  },
  {
   "cell_type": "markdown",
   "id": "70985edf",
   "metadata": {},
   "source": [
    "### 4. Transformation stage\n",
    "\n",
    "Describe any transformations, such as feature extraction. Identify input and output. Explain why you have chosen this transformation stage.\n",
    "\n",
    "This is the first stage in ML pipeline, where the input audio signals are processed and transformed. In this project we are using Librosa python package to transformed the audio data. There are several features that can be extracted using this library which can be used as a predictors to train a classifier. \n",
    "\n",
    "<b> In this stage, Audio signals are input and the extred features are output. </b> \n",
    "\n",
    "Below are some of the features which can be extrated from audio files.\n",
    "\n",
    "<b> 1. chroma_stft:</b> Chroma feature provides visualization on how dominant the characteristics of a certain pitch presentated in sampled frame. \n",
    "\n",
    "   This feature can help to identify audio signals with harmonic and melodic characteristics such as water sound.\n",
    "\n",
    "<b> 2. The spectral centroid: </b> It's the frequency based feature. It indicates the frequency at which the energy of the audio signal is centered. Spectral_centroid computes the spectral centroid for each frame in a the given signal. This is bacially a central tendency of the signal.\n",
    "\n",
    "<b> 3. Spectral Bandwidth: </b> It's gives the difference between the upper and lower frequencies in audio signals. The sum of maximum deviation of the signal on both sides of the point is the bandwidth of the signal at that time frame.\n",
    "\n",
    "As we are using Spectral Bandwidth and spectral centroid, this will help to cover the whole range of audio signal.\n",
    "\n",
    "<b> 4. Zero Crossing Rate: </b> Zero-crossing rate is a measure of number of times in a given time interval/frame that the amplitude of the speech signals passes through a value of zero. This feature can be used in multiple audio domainn, in this problem it will be useful for environmental sound recognition. \n",
    "\n",
    "   The simplest method to distinguish between voiced and unvoiced speech is to analyze the zero crossing rate. So adding this as one of the predictor will help to distnguished the dataset.\n",
    "\n",
    "    \n",
    "<b> 5. Mel-Frequency Cepstral Coefficients(MFCCs): </b> MFCC is most widley used for machine learning experiment involving audio files. These are the small set of features which concisely describe the overall shape of a spectral envelope. MFCC's models the characteristics of the human voice. \n",
    "\n",
    "   This approximates the human auditory system’s response more closely. Hence, can be used as one the predictors."
   ]
  },
  {
   "cell_type": "markdown",
   "id": "2d703be9",
   "metadata": {},
   "source": [
    "### 5. Modelling\n",
    "Describe the ML model(s) that you will build. Explain why you have chosen them.\n",
    "\n",
    "In a multiclass classification, we train a classifier using training data and use classifier for classifying test data. There are many classifiers which can be used for classification such as:\n",
    "\n",
    "1. Decision tree classifier\n",
    "2. SVM (Support vector machine) classifier\n",
    "3. KNN (k-nearest neighbors) classifier \n",
    "4. Random Forest Classifier\n",
    "\n",
    "Out of them, as a part of this project will be using SVM as a classifier as it has the below advantages. All other classifiers are also tried and tested.\n",
    "\n",
    "<b>SVM Classifiers:</b> Support Vectors Classifier tries to find the best hyperplane to separate the different classes by maximizing the distance between sample points and the hyperplane.\n",
    "\n",
    "<b>1. High-Dimensional Data:</b>  SVM can handle High dimensional data. We are extracting many features from the audio signals which makes the database bigger and more complex.  Hence SVM will be helpful to use.\n",
    "\n",
    "<b>2. Outliers have less influence in the SVM Algorithm:</b>  As outliers have less influence, there are fewer chances of skewing the results, as outliers affect the mean of the data. Thus, less influence of outliers will be helpful.\n",
    "\n",
    "<b>3. Better Accuracy:</b> When comparing results with other classifiers, SVM provides better accuracy.\n",
    "\n",
    "<b>4. Prevent Overfitting:</b> SVM generally does not suffer the condition of overfitting as it L2 Regularization feature which provides generalization capabilities that prevent overfitting.\n",
    "\n",
    "<b>5. Handles non-linear data efficiently:</b> SVM can efficiently handle non-linear data using the Kernel trick. As our dataset is also non-linear it will help to get good predictions.\n",
    "\n",
    "\n"
   ]
  },
  {
   "cell_type": "markdown",
   "id": "17541628",
   "metadata": {},
   "source": [
    "### 6. Methodology\n",
    "\n",
    "Describe how you will train and validate your models, how model performance is assesssed (i.e. accuracy, confusion matrix, etc)\n",
    "\n",
    "<b>1. Training a model:</b> As we have chose SVM as our model, we need to train SVM classifer in order to make predictions.\n",
    "To train a classifier:\n",
    "\n",
    "   A. We will use the extracted features as a predictors and Indoors/outdoors as a labels.\n",
    "        \n",
    "   B. These predictors and labels will be then divided into Train and Test data.\n",
    "        \n",
    "   C. SVM classifer will be train on training data and the validations will be performed on trained classfier using Test data.\n",
    "\n",
    "    \n",
    "<b>2. Validations:</b> Once predictions are made, to understand how our models works we can use below measures to understand the qualities of predictions:\n",
    "\n",
    "   <b>A. Accuracy:</b> Computed by comparing the set of labels predicted to the corresponding set of actual labels.\n",
    "    \n",
    "   <b>B. Precision:</b> It's the ratio tp / (tp + fp) where tp is the number of true positives and fp the number of false positives. The precision is the ability of the classifier not to label as positive a sample that is negative.\n",
    "    \n",
    "   <b>C. Recall:</b> The recall is the ratio tp / (tp + fn) where tp is the number of true positives and fn the number of false negatives. The recall is intuitively the ability of the classifier to find all the positive samples.\n",
    "    \n",
    "   <b>D. F-Score:</b> The F1 score can be interpreted as a harmonic mean of the precision and recall, where an F1 score reaches its best value at 1 and worst score at 0. The relative contribution of precision and recall to the F1 score are equal. The formula for the F1 score is: F1 = 2 * (precision * recall) / (precision + recall)\n",
    "   \n",
    "   <b>E. Confusion Matrix:</b> Compute confusion matrix to evaluate the accuracy of a classification. Thus in binary classification, it provides the count of true negatives, false negatives , true positives and false positives.\n"
   ]
  },
  {
   "cell_type": "markdown",
   "id": "95982980",
   "metadata": {},
   "source": [
    "### Importing required modules"
   ]
  },
  {
   "cell_type": "code",
   "execution_count": 89,
   "id": "9f6dfe99",
   "metadata": {},
   "outputs": [],
   "source": [
    "import numpy as np\n",
    "import pandas as pd\n",
    "import matplotlib.pyplot as plt\n",
    "import glob,csv\n",
    "import IPython.display as ipd\n",
    "from tqdm import tqdm\n",
    "import librosa\n",
    "from scipy.io import wavfile as wav\n",
    "import librosa.display\n",
    "import sklearn\n",
    "from sklearn.preprocessing import LabelEncoder, StandardScaler\n",
    "from sklearn import svm\n",
    "from sklearn.model_selection import train_test_split\n",
    "from sklearn.model_selection import cross_val_score\n",
    "from sklearn import preprocessing\n",
    "from sklearn.pipeline import make_pipeline\n",
    "import seaborn as sns\n",
    "from sklearn.metrics import confusion_matrix\n",
    "from sklearn.metrics import precision_recall_fscore_support"
   ]
  },
  {
   "cell_type": "markdown",
   "id": "e8e64d1c",
   "metadata": {},
   "source": [
    "### 7. Dataset\n",
    "Describe the dataset that you will use to create your models and validate them. If you need to preprocess it, do it here. Include visualisations too. You can visualise raw data samples or extracted features.\n",
    "\n",
    "For this project, we are using the MLEnd Sound Datasets. As the number of features to be used as predictors are 19, minimum number of samples reuqired are:\n",
    "\n",
    "(19 * 19) + 19 = 380\n",
    "\n",
    "Total 2491 audio samples are used which is greater than 380 to avoid overfitting.  Also with this, the CSV file with other details related to each audio file such as file ID, Area, Spot, IN-Out and Participent is loaded and used with sound dataset. Will verify the values associated with each category.\n"
   ]
  },
  {
   "cell_type": "code",
   "execution_count": 90,
   "id": "c79df397",
   "metadata": {},
   "outputs": [
    {
     "name": "stdout",
     "output_type": "stream",
     "text": [
      " Total audio files: 2491\n",
      "\n",
      " First five files are: \n",
      "0001.wav\n",
      "0002.wav\n",
      "0003.wav\n",
      "0004.wav\n",
      "0005.wav\n"
     ]
    }
   ],
   "source": [
    "# Collecting audio signals\n",
    "\n",
    "sample_path = './MLEndLS_all/*.wav'\n",
    "files = glob.glob(sample_path)\n",
    "print(f\" Total audio files: {len(files)}\")\n",
    "print(f\"\\n First five files are: \")\n",
    "for file in files[:5]:\n",
    "    print(file.split('\\\\')[-1])"
   ]
  },
  {
   "cell_type": "code",
   "execution_count": 91,
   "id": "a313754b",
   "metadata": {},
   "outputs": [
    {
     "data": {
      "text/html": [
       "<div>\n",
       "<style scoped>\n",
       "    .dataframe tbody tr th:only-of-type {\n",
       "        vertical-align: middle;\n",
       "    }\n",
       "\n",
       "    .dataframe tbody tr th {\n",
       "        vertical-align: top;\n",
       "    }\n",
       "\n",
       "    .dataframe thead th {\n",
       "        text-align: right;\n",
       "    }\n",
       "</style>\n",
       "<table border=\"1\" class=\"dataframe\">\n",
       "  <thead>\n",
       "    <tr style=\"text-align: right;\">\n",
       "      <th></th>\n",
       "      <th>area</th>\n",
       "      <th>spot</th>\n",
       "      <th>in_out</th>\n",
       "      <th>Participant</th>\n",
       "    </tr>\n",
       "    <tr>\n",
       "      <th>file_id</th>\n",
       "      <th></th>\n",
       "      <th></th>\n",
       "      <th></th>\n",
       "      <th></th>\n",
       "    </tr>\n",
       "  </thead>\n",
       "  <tbody>\n",
       "    <tr>\n",
       "      <th>0001.wav</th>\n",
       "      <td>british</td>\n",
       "      <td>street</td>\n",
       "      <td>outdoor</td>\n",
       "      <td>S151</td>\n",
       "    </tr>\n",
       "    <tr>\n",
       "      <th>0002.wav</th>\n",
       "      <td>kensington</td>\n",
       "      <td>dinosaur</td>\n",
       "      <td>indoor</td>\n",
       "      <td>S127</td>\n",
       "    </tr>\n",
       "    <tr>\n",
       "      <th>0003.wav</th>\n",
       "      <td>campus</td>\n",
       "      <td>square</td>\n",
       "      <td>outdoor</td>\n",
       "      <td>S18</td>\n",
       "    </tr>\n",
       "    <tr>\n",
       "      <th>0004.wav</th>\n",
       "      <td>kensington</td>\n",
       "      <td>hintze</td>\n",
       "      <td>indoor</td>\n",
       "      <td>S179</td>\n",
       "    </tr>\n",
       "    <tr>\n",
       "      <th>0005.wav</th>\n",
       "      <td>campus</td>\n",
       "      <td>square</td>\n",
       "      <td>outdoor</td>\n",
       "      <td>S176</td>\n",
       "    </tr>\n",
       "    <tr>\n",
       "      <th>...</th>\n",
       "      <td>...</td>\n",
       "      <td>...</td>\n",
       "      <td>...</td>\n",
       "      <td>...</td>\n",
       "    </tr>\n",
       "    <tr>\n",
       "      <th>2496.wav</th>\n",
       "      <td>westend</td>\n",
       "      <td>trafalgar</td>\n",
       "      <td>outdoor</td>\n",
       "      <td>S151</td>\n",
       "    </tr>\n",
       "    <tr>\n",
       "      <th>2497.wav</th>\n",
       "      <td>campus</td>\n",
       "      <td>square</td>\n",
       "      <td>outdoor</td>\n",
       "      <td>S6</td>\n",
       "    </tr>\n",
       "    <tr>\n",
       "      <th>2498.wav</th>\n",
       "      <td>westend</td>\n",
       "      <td>national</td>\n",
       "      <td>indoor</td>\n",
       "      <td>S96</td>\n",
       "    </tr>\n",
       "    <tr>\n",
       "      <th>2499.wav</th>\n",
       "      <td>british</td>\n",
       "      <td>room12</td>\n",
       "      <td>indoor</td>\n",
       "      <td>S73</td>\n",
       "    </tr>\n",
       "    <tr>\n",
       "      <th>2500.wav</th>\n",
       "      <td>british</td>\n",
       "      <td>room12</td>\n",
       "      <td>indoor</td>\n",
       "      <td>S58</td>\n",
       "    </tr>\n",
       "  </tbody>\n",
       "</table>\n",
       "<p>2491 rows × 4 columns</p>\n",
       "</div>"
      ],
      "text/plain": [
       "                area       spot   in_out Participant\n",
       "file_id                                             \n",
       "0001.wav     british     street  outdoor        S151\n",
       "0002.wav  kensington   dinosaur   indoor        S127\n",
       "0003.wav      campus     square  outdoor         S18\n",
       "0004.wav  kensington     hintze   indoor        S179\n",
       "0005.wav      campus     square  outdoor        S176\n",
       "...              ...        ...      ...         ...\n",
       "2496.wav     westend  trafalgar  outdoor        S151\n",
       "2497.wav      campus     square  outdoor          S6\n",
       "2498.wav     westend   national   indoor         S96\n",
       "2499.wav     british     room12   indoor         S73\n",
       "2500.wav     british     room12   indoor         S58\n",
       "\n",
       "[2491 rows x 4 columns]"
      ]
     },
     "metadata": {},
     "output_type": "display_data"
    }
   ],
   "source": [
    "# Get CSV file with data related to audio files:\n",
    "\n",
    "MLENDLS_df = pd.read_csv('./MLEndLS.csv').set_index('file_id') \n",
    "\n",
    "display(MLENDLS_df) \n"
   ]
  },
  {
   "cell_type": "code",
   "execution_count": 92,
   "id": "7e11be6e",
   "metadata": {},
   "outputs": [
    {
     "data": {
      "text/plain": [
       "area             6\n",
       "spot            32\n",
       "in_out           2\n",
       "Participant    176\n",
       "dtype: int64"
      ]
     },
     "execution_count": 92,
     "metadata": {},
     "output_type": "execute_result"
    }
   ],
   "source": [
    "# Get values associated with each category\n",
    "MLENDLS_df.nunique()"
   ]
  },
  {
   "cell_type": "code",
   "execution_count": 111,
   "id": "fba48e8b",
   "metadata": {},
   "outputs": [
    {
     "name": "stdout",
     "output_type": "stream",
     "text": [
      "Features to be extracted are: \n",
      "['filename', 'chroma_stft', 'spectral_centroid', 'spectral_bandwidth', 'zero_crossing_rate', 'mfcc1', 'mfcc2', 'mfcc3', 'mfcc4', 'mfcc5', 'mfcc6', 'mfcc7', 'mfcc8', 'mfcc9', 'mfcc10', 'mfcc11', 'mfcc12', 'mfcc13', 'mfcc14', 'mfcc15', 'mfcc16', 'mfcc17', 'mfcc18', 'mfcc19', 'mfcc20', 'label']\n"
     ]
    }
   ],
   "source": [
    "# Select Features to be exracted:\n",
    "\n",
    "csv_header = 'filename chroma_stft spectral_centroid spectral_bandwidth zero_crossing_rate'\n",
    "for i in range(1, 21):\n",
    "    csv_header += f' mfcc{i}'\n",
    "csv_header += ' label'\n",
    "csv_header = csv_header.split()\n",
    "\n",
    "print(f\"Features to be extracted are: \\n{csv_header}\")\n",
    "\n",
    "file = open('./dataset_basic.csv', 'w', newline='')\n",
    "with file:\n",
    "    writer = csv.writer(file)\n",
    "    writer.writerow(csv_header)\n"
   ]
  },
  {
   "cell_type": "code",
   "execution_count": 113,
   "id": "871f789f",
   "metadata": {},
   "outputs": [],
   "source": [
    "def get_MFCC(y, sr):\n",
    "    mfccs = librosa.feature.mfcc(y=y, sr=sr)\n",
    "    return mfccs"
   ]
  },
  {
   "cell_type": "code",
   "execution_count": 114,
   "id": "c95d0d1a",
   "metadata": {},
   "outputs": [],
   "source": [
    "def get_rmse(y, sr):\n",
    "    rmse = librosa.feature.rms(y=y)\n",
    "    return np.mean(rmse)"
   ]
  },
  {
   "cell_type": "code",
   "execution_count": 115,
   "id": "4c3b1f0c",
   "metadata": {},
   "outputs": [],
   "source": [
    "def get_spectral_centroid(y, sr):\n",
    "    spec_cent = librosa.feature.spectral_centroid(y=y, sr=sr)\n",
    "    return np.mean(spec_cent)"
   ]
  },
  {
   "cell_type": "code",
   "execution_count": 116,
   "id": "d06266ec",
   "metadata": {},
   "outputs": [],
   "source": [
    "def get_spectral_bw(y, sr):\n",
    "    spec_bw = librosa.feature.spectral_bandwidth(y=y, sr=sr)\n",
    "    return np.mean(spec_bw)"
   ]
  },
  {
   "cell_type": "code",
   "execution_count": 117,
   "id": "15834e6e",
   "metadata": {},
   "outputs": [],
   "source": [
    "def get_zcr(y):\n",
    "    zcr = librosa.feature.zero_crossing_rate(y)\n",
    "    return np.mean(zcr)"
   ]
  },
  {
   "cell_type": "code",
   "execution_count": 118,
   "id": "42d823df",
   "metadata": {},
   "outputs": [],
   "source": [
    "def get_chroma_stft(y, sr):\n",
    "    chroma_stft = librosa.feature.chroma_stft(y=y, sr=sr)\n",
    "    return np.mean(chroma_stft)"
   ]
  },
  {
   "cell_type": "code",
   "execution_count": 100,
   "id": "fe167ca6",
   "metadata": {},
   "outputs": [],
   "source": [
    "def get_predictors_labels(files,labels_file, scale_audio=False, onlySingleDigit=False):\n",
    "\n",
    "    for file in tqdm(files):\n",
    "        \n",
    "        #Get File ID and Label\n",
    "        fileID = file.split('\\\\')[-1]\n",
    "        yi = labels_file.loc[fileID]['in_out']=='indoor'\n",
    "\n",
    "        fs = None # if None, fs would be 22050\n",
    "        y, sr = librosa.load(file,sr=fs)\n",
    "        if scale_audio: y = y/np.max(np.abs(y))\n",
    "            \n",
    "        # Performing Feature Extraction\n",
    "        chroma_stft = get_chroma_stft(y, sr)\n",
    "        spec_cent = get_spectral_centroid(y, sr)\n",
    "        spec_bw = get_spectral_bw(y, sr)\n",
    "        zcr = get_zcr(y)\n",
    "        mfcc = get_MFCC(y, sr)\n",
    "        \n",
    "\n",
    "        append_csv = f'{fileID} {chroma_stft} {spec_cent} {spec_bw} {zcr}' \n",
    "        for val in mfcc:\n",
    "            append_csv += f' {np.mean(val)}'\n",
    "\n",
    "        # Label for particular file ID\n",
    "        append_csv += f' {yi}'\n",
    "        \n",
    "        # Uploading Extracted features and label to dataset.csv file\n",
    "        file = open('./dataset_basic.csv', 'a', newline='')\n",
    "        with file:\n",
    "            writer = csv.writer(file)\n",
    "            writer.writerow(append_csv.split())\n"
   ]
  },
  {
   "cell_type": "code",
   "execution_count": 101,
   "id": "c1754173",
   "metadata": {},
   "outputs": [
    {
     "name": "stderr",
     "output_type": "stream",
     "text": [
      "100%|████████████████████████████████████████████████████████████████████████████████████████████████████████████████████████████████████████████████████████████| 2491/2491 [17:58<00:00,  2.31it/s]\n"
     ]
    }
   ],
   "source": [
    "get_predictors_labels(files, labels_file=MLENDLS_df, scale_audio=True, onlySingleDigit=True)"
   ]
  },
  {
   "cell_type": "markdown",
   "id": "5b9bea4e",
   "metadata": {},
   "source": [
    "### 8. Results\n",
    "Carry out your experiments here, explain your results."
   ]
  },
  {
   "cell_type": "code",
   "execution_count": 102,
   "id": "23a15f3e",
   "metadata": {},
   "outputs": [
    {
     "data": {
      "text/html": [
       "<div>\n",
       "<style scoped>\n",
       "    .dataframe tbody tr th:only-of-type {\n",
       "        vertical-align: middle;\n",
       "    }\n",
       "\n",
       "    .dataframe tbody tr th {\n",
       "        vertical-align: top;\n",
       "    }\n",
       "\n",
       "    .dataframe thead th {\n",
       "        text-align: right;\n",
       "    }\n",
       "</style>\n",
       "<table border=\"1\" class=\"dataframe\">\n",
       "  <thead>\n",
       "    <tr style=\"text-align: right;\">\n",
       "      <th></th>\n",
       "      <th>filename</th>\n",
       "      <th>chroma_stft</th>\n",
       "      <th>spectral_centroid</th>\n",
       "      <th>spectral_bandwidth</th>\n",
       "      <th>zero_crossing_rate</th>\n",
       "      <th>mfcc1</th>\n",
       "      <th>mfcc2</th>\n",
       "      <th>mfcc3</th>\n",
       "      <th>mfcc4</th>\n",
       "      <th>mfcc5</th>\n",
       "      <th>...</th>\n",
       "      <th>mfcc12</th>\n",
       "      <th>mfcc13</th>\n",
       "      <th>mfcc14</th>\n",
       "      <th>mfcc15</th>\n",
       "      <th>mfcc16</th>\n",
       "      <th>mfcc17</th>\n",
       "      <th>mfcc18</th>\n",
       "      <th>mfcc19</th>\n",
       "      <th>mfcc20</th>\n",
       "      <th>label</th>\n",
       "    </tr>\n",
       "  </thead>\n",
       "  <tbody>\n",
       "    <tr>\n",
       "      <th>0</th>\n",
       "      <td>0001.wav</td>\n",
       "      <td>0.708509</td>\n",
       "      <td>2588.972447</td>\n",
       "      <td>3314.709725</td>\n",
       "      <td>0.045167</td>\n",
       "      <td>-126.706680</td>\n",
       "      <td>155.083603</td>\n",
       "      <td>-34.948479</td>\n",
       "      <td>47.673893</td>\n",
       "      <td>-3.847542</td>\n",
       "      <td>...</td>\n",
       "      <td>3.758498</td>\n",
       "      <td>0.000504</td>\n",
       "      <td>7.930458</td>\n",
       "      <td>-3.208773</td>\n",
       "      <td>-0.182821</td>\n",
       "      <td>7.767486</td>\n",
       "      <td>-8.277762</td>\n",
       "      <td>16.587343</td>\n",
       "      <td>-8.924481</td>\n",
       "      <td>False</td>\n",
       "    </tr>\n",
       "    <tr>\n",
       "      <th>1</th>\n",
       "      <td>0002.wav</td>\n",
       "      <td>0.483385</td>\n",
       "      <td>1477.982745</td>\n",
       "      <td>2163.027036</td>\n",
       "      <td>0.034102</td>\n",
       "      <td>-224.430389</td>\n",
       "      <td>193.501801</td>\n",
       "      <td>-11.608438</td>\n",
       "      <td>7.340798</td>\n",
       "      <td>1.813556</td>\n",
       "      <td>...</td>\n",
       "      <td>-1.414592</td>\n",
       "      <td>-9.788772</td>\n",
       "      <td>6.621476</td>\n",
       "      <td>-2.241543</td>\n",
       "      <td>-6.904031</td>\n",
       "      <td>7.761678</td>\n",
       "      <td>-5.318329</td>\n",
       "      <td>-0.468417</td>\n",
       "      <td>3.177372</td>\n",
       "      <td>True</td>\n",
       "    </tr>\n",
       "    <tr>\n",
       "      <th>2</th>\n",
       "      <td>0003.wav</td>\n",
       "      <td>0.633761</td>\n",
       "      <td>2256.564655</td>\n",
       "      <td>2738.490141</td>\n",
       "      <td>0.051183</td>\n",
       "      <td>-219.344849</td>\n",
       "      <td>164.443512</td>\n",
       "      <td>-39.512474</td>\n",
       "      <td>30.929867</td>\n",
       "      <td>-1.291407</td>\n",
       "      <td>...</td>\n",
       "      <td>-20.716301</td>\n",
       "      <td>24.640026</td>\n",
       "      <td>-6.354823</td>\n",
       "      <td>1.313619</td>\n",
       "      <td>16.861198</td>\n",
       "      <td>-14.994688</td>\n",
       "      <td>3.984087</td>\n",
       "      <td>0.984467</td>\n",
       "      <td>-7.551928</td>\n",
       "      <td>False</td>\n",
       "    </tr>\n",
       "    <tr>\n",
       "      <th>3</th>\n",
       "      <td>0004.wav</td>\n",
       "      <td>0.506248</td>\n",
       "      <td>2267.515325</td>\n",
       "      <td>3149.459464</td>\n",
       "      <td>0.052687</td>\n",
       "      <td>-138.645340</td>\n",
       "      <td>175.407730</td>\n",
       "      <td>-27.150810</td>\n",
       "      <td>4.292705</td>\n",
       "      <td>-2.949264</td>\n",
       "      <td>...</td>\n",
       "      <td>10.080770</td>\n",
       "      <td>-12.653316</td>\n",
       "      <td>2.355039</td>\n",
       "      <td>-3.125674</td>\n",
       "      <td>-3.332273</td>\n",
       "      <td>-7.480530</td>\n",
       "      <td>-2.681682</td>\n",
       "      <td>-6.538935</td>\n",
       "      <td>1.334394</td>\n",
       "      <td>True</td>\n",
       "    </tr>\n",
       "    <tr>\n",
       "      <th>4</th>\n",
       "      <td>0005.wav</td>\n",
       "      <td>0.599617</td>\n",
       "      <td>1731.772740</td>\n",
       "      <td>2055.022134</td>\n",
       "      <td>0.048458</td>\n",
       "      <td>-287.772675</td>\n",
       "      <td>178.267441</td>\n",
       "      <td>-30.019077</td>\n",
       "      <td>1.547611</td>\n",
       "      <td>1.808551</td>\n",
       "      <td>...</td>\n",
       "      <td>-0.010981</td>\n",
       "      <td>-3.924360</td>\n",
       "      <td>-1.596193</td>\n",
       "      <td>-3.904301</td>\n",
       "      <td>-4.679410</td>\n",
       "      <td>0.058560</td>\n",
       "      <td>-1.126085</td>\n",
       "      <td>-2.390474</td>\n",
       "      <td>-3.385034</td>\n",
       "      <td>False</td>\n",
       "    </tr>\n",
       "  </tbody>\n",
       "</table>\n",
       "<p>5 rows × 26 columns</p>\n",
       "</div>"
      ],
      "text/plain": [
       "   filename  chroma_stft  spectral_centroid  spectral_bandwidth  \\\n",
       "0  0001.wav     0.708509        2588.972447         3314.709725   \n",
       "1  0002.wav     0.483385        1477.982745         2163.027036   \n",
       "2  0003.wav     0.633761        2256.564655         2738.490141   \n",
       "3  0004.wav     0.506248        2267.515325         3149.459464   \n",
       "4  0005.wav     0.599617        1731.772740         2055.022134   \n",
       "\n",
       "   zero_crossing_rate       mfcc1       mfcc2      mfcc3      mfcc4     mfcc5  \\\n",
       "0            0.045167 -126.706680  155.083603 -34.948479  47.673893 -3.847542   \n",
       "1            0.034102 -224.430389  193.501801 -11.608438   7.340798  1.813556   \n",
       "2            0.051183 -219.344849  164.443512 -39.512474  30.929867 -1.291407   \n",
       "3            0.052687 -138.645340  175.407730 -27.150810   4.292705 -2.949264   \n",
       "4            0.048458 -287.772675  178.267441 -30.019077   1.547611  1.808551   \n",
       "\n",
       "   ...     mfcc12     mfcc13    mfcc14    mfcc15     mfcc16     mfcc17  \\\n",
       "0  ...   3.758498   0.000504  7.930458 -3.208773  -0.182821   7.767486   \n",
       "1  ...  -1.414592  -9.788772  6.621476 -2.241543  -6.904031   7.761678   \n",
       "2  ... -20.716301  24.640026 -6.354823  1.313619  16.861198 -14.994688   \n",
       "3  ...  10.080770 -12.653316  2.355039 -3.125674  -3.332273  -7.480530   \n",
       "4  ...  -0.010981  -3.924360 -1.596193 -3.904301  -4.679410   0.058560   \n",
       "\n",
       "     mfcc18     mfcc19    mfcc20  label  \n",
       "0 -8.277762  16.587343 -8.924481  False  \n",
       "1 -5.318329  -0.468417  3.177372   True  \n",
       "2  3.984087   0.984467 -7.551928  False  \n",
       "3 -2.681682  -6.538935  1.334394   True  \n",
       "4 -1.126085  -2.390474 -3.385034  False  \n",
       "\n",
       "[5 rows x 26 columns]"
      ]
     },
     "metadata": {},
     "output_type": "display_data"
    }
   ],
   "source": [
    "# Read dataset file\n",
    "\n",
    "data = pd.read_csv('./dataset_basic.csv')\n",
    "display(data.head())\n",
    "\n",
    "# Dropping unneccesary columns\n",
    "data = data.drop(['filename'],axis=1)\n",
    "label = data.iloc[:, -1]\n",
    "\n",
    "# Encoding the Labels\n",
    "encoder = LabelEncoder()\n",
    "y = encoder.fit_transform(label)\n",
    "\n",
    "# Scaling the Feature columns\n",
    "scaler = StandardScaler()\n",
    "X = scaler.fit_transform(np.array(data.iloc[:, :-1], dtype = float))\n"
   ]
  },
  {
   "cell_type": "code",
   "execution_count": 103,
   "id": "6d33a1c8",
   "metadata": {},
   "outputs": [
    {
     "data": {
      "text/plain": [
       "((1743, 24), (748, 24), (1743,), (748,))"
      ]
     },
     "execution_count": 103,
     "metadata": {},
     "output_type": "execute_result"
    }
   ],
   "source": [
    "# Dividing data into training and Testing set\n",
    "\n",
    "X_train, X_test, y_train, y_test = train_test_split(X, y, test_size=0.3)\n",
    "X_train.shape, X_test.shape, y_train.shape, y_test.shape"
   ]
  },
  {
   "cell_type": "code",
   "execution_count": 104,
   "id": "8d9b6f37",
   "metadata": {},
   "outputs": [
    {
     "name": "stdout",
     "output_type": "stream",
     "text": [
      "Training Accuracy 0.861732644865175\n",
      "Validation  Accuracy 0.767379679144385\n",
      "The support vectors are (1029, 24)\n"
     ]
    }
   ],
   "source": [
    "# Training a classifier with Train data\n",
    "\n",
    "model  = svm.SVC(C=1)\n",
    "model.fit(X_train,y_train)\n",
    "\n",
    "# Validation of trained classifier on Test Data\n",
    "yt_p = model.predict(X_train)\n",
    "yv_p = model.predict(X_test)\n",
    "\n",
    "print('Training Accuracy', np.mean(yt_p==y_train))\n",
    "print('Validation  Accuracy', np.mean(yv_p==y_test))\n",
    "print('The support vectors are', model.support_vectors_.shape)"
   ]
  },
  {
   "cell_type": "markdown",
   "id": "98bca3b1",
   "metadata": {},
   "source": [
    "### Trying out some more classifiers"
   ]
  },
  {
   "cell_type": "code",
   "execution_count": 105,
   "id": "036b9d3b",
   "metadata": {},
   "outputs": [
    {
     "name": "stdout",
     "output_type": "stream",
     "text": [
      "Training Accuracy 0.7561675272518646\n",
      "Validation  Accuracy 0.7072192513368984\n",
      "The support vectors are (1029, 24)\n"
     ]
    }
   ],
   "source": [
    "# Random Forest Classifier\n",
    "\n",
    "from sklearn.ensemble import RandomForestClassifier\n",
    "\n",
    "clf = RandomForestClassifier(max_depth=2, random_state=0)\n",
    "clf.fit(X_train,y_train)\n",
    "\n",
    "yt_p = clf.predict(X_train)\n",
    "yv_p = clf.predict(X_test)\n",
    "\n",
    "\n",
    "print('Training Accuracy', np.mean(yt_p==y_train))\n",
    "print('Validation  Accuracy', np.mean(yv_p==y_test))\n",
    "print('The support vectors are', model.support_vectors_.shape)"
   ]
  },
  {
   "cell_type": "code",
   "execution_count": 106,
   "id": "26d8561a",
   "metadata": {},
   "outputs": [
    {
     "name": "stdout",
     "output_type": "stream",
     "text": [
      "Training Accuracy 1.0\n",
      "Validation  Accuracy 0.6657754010695187\n"
     ]
    }
   ],
   "source": [
    "# Decision Tree Classifer\n",
    "\n",
    "from sklearn.tree import DecisionTreeClassifier\n",
    "from sklearn.model_selection import cross_val_score\n",
    "clf_dt = DecisionTreeClassifier(random_state=0)\n",
    "\n",
    "clf_dt.fit(X_train,y_train)\n",
    "\n",
    "yt_p_dc = clf_dt.predict(X_train)\n",
    "yv_p_dc = clf_dt.predict(X_test)\n",
    "\n",
    "\n",
    "print('Training Accuracy', np.mean(yt_p_dc==y_train))\n",
    "print('Validation  Accuracy', np.mean(yv_p_dc==y_test))"
   ]
  },
  {
   "cell_type": "code",
   "execution_count": 107,
   "id": "ee56cb7c",
   "metadata": {},
   "outputs": [
    {
     "name": "stdout",
     "output_type": "stream",
     "text": [
      "Accuracy: 0.7165775401069518\n"
     ]
    }
   ],
   "source": [
    "# KNeighbors Classifier\n",
    "\n",
    "from sklearn.neighbors import KNeighborsClassifier\n",
    "from sklearn import metrics\n",
    "knn = KNeighborsClassifier(n_neighbors=5)\n",
    "knn.fit(X_train, y_train)\n",
    "y_pred = knn.predict(X_test)\n",
    "print(\"Accuracy:\",metrics.accuracy_score(y_test, y_pred))"
   ]
  },
  {
   "cell_type": "code",
   "execution_count": 108,
   "id": "20359035",
   "metadata": {},
   "outputs": [
    {
     "name": "stdout",
     "output_type": "stream",
     "text": [
      "Training Accuracy 0.7814113597246127\n",
      "Validation  Accuracy 0.7486631016042781\n"
     ]
    },
    {
     "name": "stderr",
     "output_type": "stream",
     "text": [
      "C:\\Users\\pranj\\AppData\\Local\\Programs\\Python\\Python310\\lib\\site-packages\\sklearn\\svm\\_base.py:1225: ConvergenceWarning: Liblinear failed to converge, increase the number of iterations.\n",
      "  warnings.warn(\n"
     ]
    }
   ],
   "source": [
    "# Linear SVC Classifier\n",
    "\n",
    "lin_clf = svm.LinearSVC()\n",
    "lin_clf.fit(X_train,y_train)\n",
    "yt_p_lin = lin_clf.predict(X_train)\n",
    "yv_p_lin = lin_clf.predict(X_test)\n",
    "\n",
    "print('Training Accuracy', np.mean(yt_p_lin==y_train))\n",
    "print('Validation  Accuracy', np.mean(yv_p_lin==y_test))"
   ]
  },
  {
   "cell_type": "markdown",
   "id": "e9deff86",
   "metadata": {},
   "source": [
    "<b> We have compared accuracy of multiple models such as Decision tree classifier, SVM (Support vector machine) classifier, KNN (k-nearest neighbors) classifier, and Random Forest Classifier. Out of all these, we can observe the best accuracy is provided by SVM classier. Also some classifiers such as decision tree are overfitting, which can be exclude. Hence SVM classifier is selected for further validations.</b>"
   ]
  },
  {
   "cell_type": "code",
   "execution_count": 109,
   "id": "7f1130c3",
   "metadata": {},
   "outputs": [
    {
     "name": "stdout",
     "output_type": "stream",
     "text": [
      "[[267 127]\n",
      " [ 92 262]]\n"
     ]
    },
    {
     "data": {
      "image/png": "[encoded data removed]",
      "text/plain": [
       "<Figure size 640x480 with 2 Axes>"
      ]
     },
     "metadata": {},
     "output_type": "display_data"
    }
   ],
   "source": [
    "import seaborn as sns\n",
    "from sklearn.metrics import confusion_matrix\n",
    "\n",
    "labels = [\"Indoor\", \"Outdoor\"]\n",
    "cm = confusion_matrix(y_test, yv_p)\n",
    "print(cm)\n",
    "\n",
    "ax = sns.heatmap(cm, annot=True, fmt='g', cmap='Blues')\n",
    "\n",
    "ax.set_title('Confusion Matrix with labels\\n\\n');\n",
    "ax.set_xlabel('\\nPredicted Values')\n",
    "ax.set_ylabel('Actual Values ');\n",
    "\n",
    "ax.xaxis.set_ticklabels(labels)\n",
    "ax.yaxis.set_ticklabels(labels)\n",
    "\n",
    "## Display the visualization of the Confusion Matrix.\n",
    "plt.show()"
   ]
  },
  {
   "cell_type": "code",
   "execution_count": 110,
   "id": "2fa3f039",
   "metadata": {},
   "outputs": [
    {
     "name": "stdout",
     "output_type": "stream",
     "text": [
      "Precision: 0.710504513217958\n",
      "Recall: 0.7072192513368984\n",
      "F-score: 0.7073108305222048\n"
     ]
    }
   ],
   "source": [
    "precision, recall, fscore, _ = precision_recall_fscore_support(y_test, yv_p, average='weighted')\n",
    "print(f\"Precision: {precision}\")\n",
    "print(f\"Recall: {recall}\")\n",
    "print(f\"F-score: {fscore}\")"
   ]
  },
  {
   "cell_type": "markdown",
   "id": "32d514f4",
   "metadata": {},
   "source": [
    "### 9. Conclusions\n",
    "\n",
    "With this project, we are successfully able to distinguish Indoor and Outdoor audio signals in London with 0.77 Accuracy. From the confusion matrix, we can observe, True Positive and True Negatives numbers(diagonally) are high than the rest. That means we have fewer False Positives and False Negatives.\n",
    "\n",
    "But still, there is room for improvement in order to make the False Positives and False Negatives number as low as possible and thereby increase the Precision and F-score values. this can be achieved with a greater number of samples to train the classifier, clean data, select more suitable feature extractions and use deep learning classifiers which can provide good accuracy.\n"
   ]
  }
 ],
 "metadata": {
  "kernelspec": {
   "display_name": "Python 3 (ipykernel)",
   "language": "python",
   "name": "python3"
  },
  "language_info": {
   "codemirror_mode": {
    "name": "ipython",
    "version": 3
   },
   "file_extension": ".py",
   "mimetype": "text/x-python",
   "name": "python",
   "nbconvert_exporter": "python",
   "pygments_lexer": "ipython3",
   "version": "3.10.8"
  }
 },
 "nbformat": 4,
 "nbformat_minor": 5
}
